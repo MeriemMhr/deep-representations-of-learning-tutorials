{
 "cells": [
  {
   "cell_type": "markdown",
   "id": "8eb2e2f1-bc91-4a21-a134-e55f1f2a693c",
   "metadata": {
    "id": "8eb2e2f1-bc91-4a21-a134-e55f1f2a693c"
   },
   "source": [
    "## Introduction to PyTorch\n",
    "* This tutorial is designed to introduce Pytorch, training models with Pytorch and evaluating models using weights and biases. All of which will be critical for the rest of the course\n",
    "* Proficiency with Python is expected as well as a familiarity with object orientated programming within Python. For further information on Pytorch, please refer to https://pytorch.org/tutorials/beginner/basics/intro.html#learn-the-basics.\n",
    "* An introductory understanding to machine learning is also expected i.e., data set splitting, data loader, difference between sklearn and pytorch, feature selection.\n",
    "\n",
    "Connect environment to a GPU by:\n",
    "\n",
    "* Select 'Runtime' in the top left\n",
    "* Select 'Change Runtime Type'\n",
    "* Select the GPU runtime available"
   ]
  },
  {
   "cell_type": "code",
   "execution_count": 2,
   "id": "dcbce001-ff33-4463-ada8-41af92e9eb30",
   "metadata": {
    "colab": {
     "base_uri": "https://localhost:8080/"
    },
    "executionInfo": {
     "elapsed": 14494,
     "status": "ok",
     "timestamp": 1728033080321,
     "user": {
      "displayName": "Meriem Mehri",
      "userId": "13019516881760236722"
     },
     "user_tz": -60
    },
    "id": "dcbce001-ff33-4463-ada8-41af92e9eb30",
    "outputId": "8045aeca-b2de-4825-dcc0-0bf65b2a21d3"
   },
   "outputs": [
    {
     "name": "stdout",
     "output_type": "stream",
     "text": [
      "Collecting wandb\n",
      "  Downloading wandb-0.18.3-py3-none-manylinux_2_17_x86_64.manylinux2014_x86_64.whl.metadata (9.7 kB)\n",
      "Requirement already satisfied: click!=8.0.0,>=7.1 in /usr/local/lib/python3.10/dist-packages (from wandb) (8.1.7)\n",
      "Collecting docker-pycreds>=0.4.0 (from wandb)\n",
      "  Downloading docker_pycreds-0.4.0-py2.py3-none-any.whl.metadata (1.8 kB)\n",
      "Collecting gitpython!=3.1.29,>=1.0.0 (from wandb)\n",
      "  Downloading GitPython-3.1.43-py3-none-any.whl.metadata (13 kB)\n",
      "Requirement already satisfied: platformdirs in /usr/local/lib/python3.10/dist-packages (from wandb) (4.3.6)\n",
      "Requirement already satisfied: protobuf!=4.21.0,!=5.28.0,<6,>=3.19.0 in /usr/local/lib/python3.10/dist-packages (from wandb) (3.20.3)\n",
      "Requirement already satisfied: psutil>=5.0.0 in /usr/local/lib/python3.10/dist-packages (from wandb) (5.9.5)\n",
      "Requirement already satisfied: pyyaml in /usr/local/lib/python3.10/dist-packages (from wandb) (6.0.2)\n",
      "Requirement already satisfied: requests<3,>=2.0.0 in /usr/local/lib/python3.10/dist-packages (from wandb) (2.32.3)\n",
      "Collecting sentry-sdk>=1.0.0 (from wandb)\n",
      "  Downloading sentry_sdk-2.15.0-py2.py3-none-any.whl.metadata (9.7 kB)\n",
      "Collecting setproctitle (from wandb)\n",
      "  Downloading setproctitle-1.3.3-cp310-cp310-manylinux_2_5_x86_64.manylinux1_x86_64.manylinux_2_17_x86_64.manylinux2014_x86_64.whl.metadata (9.9 kB)\n",
      "Requirement already satisfied: setuptools in /usr/local/lib/python3.10/dist-packages (from wandb) (71.0.4)\n",
      "Requirement already satisfied: six>=1.4.0 in /usr/local/lib/python3.10/dist-packages (from docker-pycreds>=0.4.0->wandb) (1.16.0)\n",
      "Collecting gitdb<5,>=4.0.1 (from gitpython!=3.1.29,>=1.0.0->wandb)\n",
      "  Downloading gitdb-4.0.11-py3-none-any.whl.metadata (1.2 kB)\n",
      "Requirement already satisfied: charset-normalizer<4,>=2 in /usr/local/lib/python3.10/dist-packages (from requests<3,>=2.0.0->wandb) (3.3.2)\n",
      "Requirement already satisfied: idna<4,>=2.5 in /usr/local/lib/python3.10/dist-packages (from requests<3,>=2.0.0->wandb) (3.10)\n",
      "Requirement already satisfied: urllib3<3,>=1.21.1 in /usr/local/lib/python3.10/dist-packages (from requests<3,>=2.0.0->wandb) (2.2.3)\n",
      "Requirement already satisfied: certifi>=2017.4.17 in /usr/local/lib/python3.10/dist-packages (from requests<3,>=2.0.0->wandb) (2024.8.30)\n",
      "Collecting smmap<6,>=3.0.1 (from gitdb<5,>=4.0.1->gitpython!=3.1.29,>=1.0.0->wandb)\n",
      "  Downloading smmap-5.0.1-py3-none-any.whl.metadata (4.3 kB)\n",
      "Downloading wandb-0.18.3-py3-none-manylinux_2_17_x86_64.manylinux2014_x86_64.whl (13.0 MB)\n",
      "\u001b[2K   \u001b[90m━━━━━━━━━━━━━━━━━━━━━━━━━━━━━━━━━━━━━━━━\u001b[0m \u001b[32m13.0/13.0 MB\u001b[0m \u001b[31m88.6 MB/s\u001b[0m eta \u001b[36m0:00:00\u001b[0m\n",
      "\u001b[?25hDownloading docker_pycreds-0.4.0-py2.py3-none-any.whl (9.0 kB)\n",
      "Downloading GitPython-3.1.43-py3-none-any.whl (207 kB)\n",
      "\u001b[2K   \u001b[90m━━━━━━━━━━━━━━━━━━━━━━━━━━━━━━━━━━━━━━━━\u001b[0m \u001b[32m207.3/207.3 kB\u001b[0m \u001b[31m20.5 MB/s\u001b[0m eta \u001b[36m0:00:00\u001b[0m\n",
      "\u001b[?25hDownloading sentry_sdk-2.15.0-py2.py3-none-any.whl (310 kB)\n",
      "\u001b[2K   \u001b[90m━━━━━━━━━━━━━━━━━━━━━━━━━━━━━━━━━━━━━━━━\u001b[0m \u001b[32m311.0/311.0 kB\u001b[0m \u001b[31m26.8 MB/s\u001b[0m eta \u001b[36m0:00:00\u001b[0m\n",
      "\u001b[?25hDownloading setproctitle-1.3.3-cp310-cp310-manylinux_2_5_x86_64.manylinux1_x86_64.manylinux_2_17_x86_64.manylinux2014_x86_64.whl (30 kB)\n",
      "Downloading gitdb-4.0.11-py3-none-any.whl (62 kB)\n",
      "\u001b[2K   \u001b[90m━━━━━━━━━━━━━━━━━━━━━━━━━━━━━━━━━━━━━━━━\u001b[0m \u001b[32m62.7/62.7 kB\u001b[0m \u001b[31m5.6 MB/s\u001b[0m eta \u001b[36m0:00:00\u001b[0m\n",
      "\u001b[?25hDownloading smmap-5.0.1-py3-none-any.whl (24 kB)\n",
      "Installing collected packages: smmap, setproctitle, sentry-sdk, docker-pycreds, gitdb, gitpython, wandb\n",
      "Successfully installed docker-pycreds-0.4.0 gitdb-4.0.11 gitpython-3.1.43 sentry-sdk-2.15.0 setproctitle-1.3.3 smmap-5.0.1 wandb-0.18.3\n"
     ]
    }
   ],
   "source": [
    "%pip install wandb\n",
    "import wandb\n",
    "import torch\n",
    "from torch.utils.data import Dataset\n",
    "from torch.utils.data import DataLoader\n",
    "import os\n",
    "from typing import Union, Callable, Tuple, List, Literal\n",
    "from torch.autograd import Variable\n",
    "import torch.nn as nn\n",
    "import matplotlib.pyplot as plt\n",
    "import seaborn as sns\n",
    "import numpy as np\n",
    "import pandas as pd\n",
    "from tqdm import tqdm\n",
    "from sklearn.model_selection import train_test_split\n",
    "import random\n",
    "random.seed(0)\n",
    "np.random.seed(0)"
   ]
  },
  {
   "cell_type": "markdown",
   "id": "a8b41b99-29ee-4886-9084-8554ef8bd779",
   "metadata": {
    "id": "a8b41b99-29ee-4886-9084-8554ef8bd779"
   },
   "source": [
    "### Dataset\n",
    "* The diabetes dataset used in this tutorial is small and tabular therefore we'll use the standard dataloader and define a custom dataset to handle input data which:\n",
    "\n",
    "  * Is a pandas dataframe\n",
    "  * Has a 1-dimensional dependant variable which does not require processing\n",
    "  * Has an n-dimensional feature space which requires min-max scaling"
   ]
  },
  {
   "cell_type": "code",
   "execution_count": 22,
   "id": "03adc6b2-cca0-4167-9496-55634e5b4dc7",
   "metadata": {
    "colab": {
     "base_uri": "https://localhost:8080/"
    },
    "executionInfo": {
     "elapsed": 22260,
     "status": "ok",
     "timestamp": 1728034151729,
     "user": {
      "displayName": "Meriem Mehri",
      "userId": "13019516881760236722"
     },
     "user_tz": -60
    },
    "id": "03adc6b2-cca0-4167-9496-55634e5b4dc7",
    "outputId": "d988e3fc-0a25-4c51-9065-d779e0d02e92"
   },
   "outputs": [
    {
     "name": "stdout",
     "output_type": "stream",
     "text": [
      "Mounted at /content/drive\n"
     ]
    }
   ],
   "source": [
    "# Load example dataset\n",
    "from google.colab import drive\n",
    "\n",
    "# Mount Google Drive\n",
    "drive.mount('/content/drive')"
   ]
  },
  {
   "cell_type": "code",
   "execution_count": 23,
   "id": "2KcD47Iv3Koa",
   "metadata": {
    "executionInfo": {
     "elapsed": 332,
     "status": "ok",
     "timestamp": 1728034171885,
     "user": {
      "displayName": "Meriem Mehri",
      "userId": "13019516881760236722"
     },
     "user_tz": -60
    },
    "id": "2KcD47Iv3Koa"
   },
   "outputs": [],
   "source": [
    "# Specify the path to your CSV file in Google Drive\n",
    "file_path = '/content/drive/My Drive/COMP0188 - Deep Representations of Learning/diabetes.csv'"
   ]
  },
  {
   "cell_type": "code",
   "execution_count": 24,
   "id": "J-iGMtUD3P9r",
   "metadata": {
    "executionInfo": {
     "elapsed": 1407,
     "status": "ok",
     "timestamp": 1728034184476,
     "user": {
      "displayName": "Meriem Mehri",
      "userId": "13019516881760236722"
     },
     "user_tz": -60
    },
    "id": "J-iGMtUD3P9r"
   },
   "outputs": [],
   "source": [
    "# Load the CSV file into a DataFrame\n",
    "df = pd.read_csv(file_path)"
   ]
  },
  {
   "cell_type": "code",
   "execution_count": 25,
   "id": "6R98RgHb3SOO",
   "metadata": {
    "colab": {
     "base_uri": "https://localhost:8080/",
     "height": 223
    },
    "executionInfo": {
     "elapsed": 366,
     "status": "ok",
     "timestamp": 1728034191842,
     "user": {
      "displayName": "Meriem Mehri",
      "userId": "13019516881760236722"
     },
     "user_tz": -60
    },
    "id": "6R98RgHb3SOO",
    "outputId": "2f001e81-20ab-4b06-82cb-4217030418e6"
   },
   "outputs": [
    {
     "name": "stdout",
     "output_type": "stream",
     "text": [
      "(768, 9)\n"
     ]
    },
    {
     "data": {
      "application/vnd.google.colaboratory.intrinsic+json": {
       "summary": "{\n  \"name\": \"df\",\n  \"rows\": 768,\n  \"fields\": [\n    {\n      \"column\": \"Pregnancies\",\n      \"properties\": {\n        \"dtype\": \"number\",\n        \"std\": 3,\n        \"min\": 0,\n        \"max\": 17,\n        \"num_unique_values\": 17,\n        \"samples\": [\n          6,\n          1,\n          3\n        ],\n        \"semantic_type\": \"\",\n        \"description\": \"\"\n      }\n    },\n    {\n      \"column\": \"Glucose\",\n      \"properties\": {\n        \"dtype\": \"number\",\n        \"std\": 31,\n        \"min\": 0,\n        \"max\": 199,\n        \"num_unique_values\": 136,\n        \"samples\": [\n          151,\n          101,\n          112\n        ],\n        \"semantic_type\": \"\",\n        \"description\": \"\"\n      }\n    },\n    {\n      \"column\": \"BloodPressure\",\n      \"properties\": {\n        \"dtype\": \"number\",\n        \"std\": 19,\n        \"min\": 0,\n        \"max\": 122,\n        \"num_unique_values\": 47,\n        \"samples\": [\n          86,\n          46,\n          85\n        ],\n        \"semantic_type\": \"\",\n        \"description\": \"\"\n      }\n    },\n    {\n      \"column\": \"SkinThickness\",\n      \"properties\": {\n        \"dtype\": \"number\",\n        \"std\": 15,\n        \"min\": 0,\n        \"max\": 99,\n        \"num_unique_values\": 51,\n        \"samples\": [\n          7,\n          12,\n          48\n        ],\n        \"semantic_type\": \"\",\n        \"description\": \"\"\n      }\n    },\n    {\n      \"column\": \"Insulin\",\n      \"properties\": {\n        \"dtype\": \"number\",\n        \"std\": 115,\n        \"min\": 0,\n        \"max\": 846,\n        \"num_unique_values\": 186,\n        \"samples\": [\n          52,\n          41,\n          183\n        ],\n        \"semantic_type\": \"\",\n        \"description\": \"\"\n      }\n    },\n    {\n      \"column\": \"BMI\",\n      \"properties\": {\n        \"dtype\": \"number\",\n        \"std\": 7.8841603203754405,\n        \"min\": 0.0,\n        \"max\": 67.1,\n        \"num_unique_values\": 248,\n        \"samples\": [\n          19.9,\n          31.0,\n          38.1\n        ],\n        \"semantic_type\": \"\",\n        \"description\": \"\"\n      }\n    },\n    {\n      \"column\": \"DiabetesPedigreeFunction\",\n      \"properties\": {\n        \"dtype\": \"number\",\n        \"std\": 0.33132859501277484,\n        \"min\": 0.078,\n        \"max\": 2.42,\n        \"num_unique_values\": 517,\n        \"samples\": [\n          1.731,\n          0.426,\n          0.138\n        ],\n        \"semantic_type\": \"\",\n        \"description\": \"\"\n      }\n    },\n    {\n      \"column\": \"Age\",\n      \"properties\": {\n        \"dtype\": \"number\",\n        \"std\": 11,\n        \"min\": 21,\n        \"max\": 81,\n        \"num_unique_values\": 52,\n        \"samples\": [\n          60,\n          47,\n          72\n        ],\n        \"semantic_type\": \"\",\n        \"description\": \"\"\n      }\n    },\n    {\n      \"column\": \"Outcome\",\n      \"properties\": {\n        \"dtype\": \"number\",\n        \"std\": 0,\n        \"min\": 0,\n        \"max\": 1,\n        \"num_unique_values\": 2,\n        \"samples\": [\n          0,\n          1\n        ],\n        \"semantic_type\": \"\",\n        \"description\": \"\"\n      }\n    }\n  ]\n}",
       "type": "dataframe",
       "variable_name": "df"
      },
      "text/html": [
       "\n",
       "  <div id=\"df-aa9deb2a-b827-4e6a-bf8c-18296c639221\" class=\"colab-df-container\">\n",
       "    <div>\n",
       "<style scoped>\n",
       "    .dataframe tbody tr th:only-of-type {\n",
       "        vertical-align: middle;\n",
       "    }\n",
       "\n",
       "    .dataframe tbody tr th {\n",
       "        vertical-align: top;\n",
       "    }\n",
       "\n",
       "    .dataframe thead th {\n",
       "        text-align: right;\n",
       "    }\n",
       "</style>\n",
       "<table border=\"1\" class=\"dataframe\">\n",
       "  <thead>\n",
       "    <tr style=\"text-align: right;\">\n",
       "      <th></th>\n",
       "      <th>Pregnancies</th>\n",
       "      <th>Glucose</th>\n",
       "      <th>BloodPressure</th>\n",
       "      <th>SkinThickness</th>\n",
       "      <th>Insulin</th>\n",
       "      <th>BMI</th>\n",
       "      <th>DiabetesPedigreeFunction</th>\n",
       "      <th>Age</th>\n",
       "      <th>Outcome</th>\n",
       "    </tr>\n",
       "  </thead>\n",
       "  <tbody>\n",
       "    <tr>\n",
       "      <th>0</th>\n",
       "      <td>6</td>\n",
       "      <td>148</td>\n",
       "      <td>72</td>\n",
       "      <td>35</td>\n",
       "      <td>0</td>\n",
       "      <td>33.6</td>\n",
       "      <td>0.627</td>\n",
       "      <td>50</td>\n",
       "      <td>1</td>\n",
       "    </tr>\n",
       "    <tr>\n",
       "      <th>1</th>\n",
       "      <td>1</td>\n",
       "      <td>85</td>\n",
       "      <td>66</td>\n",
       "      <td>29</td>\n",
       "      <td>0</td>\n",
       "      <td>26.6</td>\n",
       "      <td>0.351</td>\n",
       "      <td>31</td>\n",
       "      <td>0</td>\n",
       "    </tr>\n",
       "    <tr>\n",
       "      <th>2</th>\n",
       "      <td>8</td>\n",
       "      <td>183</td>\n",
       "      <td>64</td>\n",
       "      <td>0</td>\n",
       "      <td>0</td>\n",
       "      <td>23.3</td>\n",
       "      <td>0.672</td>\n",
       "      <td>32</td>\n",
       "      <td>1</td>\n",
       "    </tr>\n",
       "    <tr>\n",
       "      <th>3</th>\n",
       "      <td>1</td>\n",
       "      <td>89</td>\n",
       "      <td>66</td>\n",
       "      <td>23</td>\n",
       "      <td>94</td>\n",
       "      <td>28.1</td>\n",
       "      <td>0.167</td>\n",
       "      <td>21</td>\n",
       "      <td>0</td>\n",
       "    </tr>\n",
       "    <tr>\n",
       "      <th>4</th>\n",
       "      <td>0</td>\n",
       "      <td>137</td>\n",
       "      <td>40</td>\n",
       "      <td>35</td>\n",
       "      <td>168</td>\n",
       "      <td>43.1</td>\n",
       "      <td>2.288</td>\n",
       "      <td>33</td>\n",
       "      <td>1</td>\n",
       "    </tr>\n",
       "  </tbody>\n",
       "</table>\n",
       "</div>\n",
       "    <div class=\"colab-df-buttons\">\n",
       "\n",
       "  <div class=\"colab-df-container\">\n",
       "    <button class=\"colab-df-convert\" onclick=\"convertToInteractive('df-aa9deb2a-b827-4e6a-bf8c-18296c639221')\"\n",
       "            title=\"Convert this dataframe to an interactive table.\"\n",
       "            style=\"display:none;\">\n",
       "\n",
       "  <svg xmlns=\"http://www.w3.org/2000/svg\" height=\"24px\" viewBox=\"0 -960 960 960\">\n",
       "    <path d=\"M120-120v-720h720v720H120Zm60-500h600v-160H180v160Zm220 220h160v-160H400v160Zm0 220h160v-160H400v160ZM180-400h160v-160H180v160Zm440 0h160v-160H620v160ZM180-180h160v-160H180v160Zm440 0h160v-160H620v160Z\"/>\n",
       "  </svg>\n",
       "    </button>\n",
       "\n",
       "  <style>\n",
       "    .colab-df-container {\n",
       "      display:flex;\n",
       "      gap: 12px;\n",
       "    }\n",
       "\n",
       "    .colab-df-convert {\n",
       "      background-color: #E8F0FE;\n",
       "      border: none;\n",
       "      border-radius: 50%;\n",
       "      cursor: pointer;\n",
       "      display: none;\n",
       "      fill: #1967D2;\n",
       "      height: 32px;\n",
       "      padding: 0 0 0 0;\n",
       "      width: 32px;\n",
       "    }\n",
       "\n",
       "    .colab-df-convert:hover {\n",
       "      background-color: #E2EBFA;\n",
       "      box-shadow: 0px 1px 2px rgba(60, 64, 67, 0.3), 0px 1px 3px 1px rgba(60, 64, 67, 0.15);\n",
       "      fill: #174EA6;\n",
       "    }\n",
       "\n",
       "    .colab-df-buttons div {\n",
       "      margin-bottom: 4px;\n",
       "    }\n",
       "\n",
       "    [theme=dark] .colab-df-convert {\n",
       "      background-color: #3B4455;\n",
       "      fill: #D2E3FC;\n",
       "    }\n",
       "\n",
       "    [theme=dark] .colab-df-convert:hover {\n",
       "      background-color: #434B5C;\n",
       "      box-shadow: 0px 1px 3px 1px rgba(0, 0, 0, 0.15);\n",
       "      filter: drop-shadow(0px 1px 2px rgba(0, 0, 0, 0.3));\n",
       "      fill: #FFFFFF;\n",
       "    }\n",
       "  </style>\n",
       "\n",
       "    <script>\n",
       "      const buttonEl =\n",
       "        document.querySelector('#df-aa9deb2a-b827-4e6a-bf8c-18296c639221 button.colab-df-convert');\n",
       "      buttonEl.style.display =\n",
       "        google.colab.kernel.accessAllowed ? 'block' : 'none';\n",
       "\n",
       "      async function convertToInteractive(key) {\n",
       "        const element = document.querySelector('#df-aa9deb2a-b827-4e6a-bf8c-18296c639221');\n",
       "        const dataTable =\n",
       "          await google.colab.kernel.invokeFunction('convertToInteractive',\n",
       "                                                    [key], {});\n",
       "        if (!dataTable) return;\n",
       "\n",
       "        const docLinkHtml = 'Like what you see? Visit the ' +\n",
       "          '<a target=\"_blank\" href=https://colab.research.google.com/notebooks/data_table.ipynb>data table notebook</a>'\n",
       "          + ' to learn more about interactive tables.';\n",
       "        element.innerHTML = '';\n",
       "        dataTable['output_type'] = 'display_data';\n",
       "        await google.colab.output.renderOutput(dataTable, element);\n",
       "        const docLink = document.createElement('div');\n",
       "        docLink.innerHTML = docLinkHtml;\n",
       "        element.appendChild(docLink);\n",
       "      }\n",
       "    </script>\n",
       "  </div>\n",
       "\n",
       "\n",
       "<div id=\"df-3f943ec8-4d12-416f-969d-481104c9684b\">\n",
       "  <button class=\"colab-df-quickchart\" onclick=\"quickchart('df-3f943ec8-4d12-416f-969d-481104c9684b')\"\n",
       "            title=\"Suggest charts\"\n",
       "            style=\"display:none;\">\n",
       "\n",
       "<svg xmlns=\"http://www.w3.org/2000/svg\" height=\"24px\"viewBox=\"0 0 24 24\"\n",
       "     width=\"24px\">\n",
       "    <g>\n",
       "        <path d=\"M19 3H5c-1.1 0-2 .9-2 2v14c0 1.1.9 2 2 2h14c1.1 0 2-.9 2-2V5c0-1.1-.9-2-2-2zM9 17H7v-7h2v7zm4 0h-2V7h2v10zm4 0h-2v-4h2v4z\"/>\n",
       "    </g>\n",
       "</svg>\n",
       "  </button>\n",
       "\n",
       "<style>\n",
       "  .colab-df-quickchart {\n",
       "      --bg-color: #E8F0FE;\n",
       "      --fill-color: #1967D2;\n",
       "      --hover-bg-color: #E2EBFA;\n",
       "      --hover-fill-color: #174EA6;\n",
       "      --disabled-fill-color: #AAA;\n",
       "      --disabled-bg-color: #DDD;\n",
       "  }\n",
       "\n",
       "  [theme=dark] .colab-df-quickchart {\n",
       "      --bg-color: #3B4455;\n",
       "      --fill-color: #D2E3FC;\n",
       "      --hover-bg-color: #434B5C;\n",
       "      --hover-fill-color: #FFFFFF;\n",
       "      --disabled-bg-color: #3B4455;\n",
       "      --disabled-fill-color: #666;\n",
       "  }\n",
       "\n",
       "  .colab-df-quickchart {\n",
       "    background-color: var(--bg-color);\n",
       "    border: none;\n",
       "    border-radius: 50%;\n",
       "    cursor: pointer;\n",
       "    display: none;\n",
       "    fill: var(--fill-color);\n",
       "    height: 32px;\n",
       "    padding: 0;\n",
       "    width: 32px;\n",
       "  }\n",
       "\n",
       "  .colab-df-quickchart:hover {\n",
       "    background-color: var(--hover-bg-color);\n",
       "    box-shadow: 0 1px 2px rgba(60, 64, 67, 0.3), 0 1px 3px 1px rgba(60, 64, 67, 0.15);\n",
       "    fill: var(--button-hover-fill-color);\n",
       "  }\n",
       "\n",
       "  .colab-df-quickchart-complete:disabled,\n",
       "  .colab-df-quickchart-complete:disabled:hover {\n",
       "    background-color: var(--disabled-bg-color);\n",
       "    fill: var(--disabled-fill-color);\n",
       "    box-shadow: none;\n",
       "  }\n",
       "\n",
       "  .colab-df-spinner {\n",
       "    border: 2px solid var(--fill-color);\n",
       "    border-color: transparent;\n",
       "    border-bottom-color: var(--fill-color);\n",
       "    animation:\n",
       "      spin 1s steps(1) infinite;\n",
       "  }\n",
       "\n",
       "  @keyframes spin {\n",
       "    0% {\n",
       "      border-color: transparent;\n",
       "      border-bottom-color: var(--fill-color);\n",
       "      border-left-color: var(--fill-color);\n",
       "    }\n",
       "    20% {\n",
       "      border-color: transparent;\n",
       "      border-left-color: var(--fill-color);\n",
       "      border-top-color: var(--fill-color);\n",
       "    }\n",
       "    30% {\n",
       "      border-color: transparent;\n",
       "      border-left-color: var(--fill-color);\n",
       "      border-top-color: var(--fill-color);\n",
       "      border-right-color: var(--fill-color);\n",
       "    }\n",
       "    40% {\n",
       "      border-color: transparent;\n",
       "      border-right-color: var(--fill-color);\n",
       "      border-top-color: var(--fill-color);\n",
       "    }\n",
       "    60% {\n",
       "      border-color: transparent;\n",
       "      border-right-color: var(--fill-color);\n",
       "    }\n",
       "    80% {\n",
       "      border-color: transparent;\n",
       "      border-right-color: var(--fill-color);\n",
       "      border-bottom-color: var(--fill-color);\n",
       "    }\n",
       "    90% {\n",
       "      border-color: transparent;\n",
       "      border-bottom-color: var(--fill-color);\n",
       "    }\n",
       "  }\n",
       "</style>\n",
       "\n",
       "  <script>\n",
       "    async function quickchart(key) {\n",
       "      const quickchartButtonEl =\n",
       "        document.querySelector('#' + key + ' button');\n",
       "      quickchartButtonEl.disabled = true;  // To prevent multiple clicks.\n",
       "      quickchartButtonEl.classList.add('colab-df-spinner');\n",
       "      try {\n",
       "        const charts = await google.colab.kernel.invokeFunction(\n",
       "            'suggestCharts', [key], {});\n",
       "      } catch (error) {\n",
       "        console.error('Error during call to suggestCharts:', error);\n",
       "      }\n",
       "      quickchartButtonEl.classList.remove('colab-df-spinner');\n",
       "      quickchartButtonEl.classList.add('colab-df-quickchart-complete');\n",
       "    }\n",
       "    (() => {\n",
       "      let quickchartButtonEl =\n",
       "        document.querySelector('#df-3f943ec8-4d12-416f-969d-481104c9684b button');\n",
       "      quickchartButtonEl.style.display =\n",
       "        google.colab.kernel.accessAllowed ? 'block' : 'none';\n",
       "    })();\n",
       "  </script>\n",
       "</div>\n",
       "\n",
       "    </div>\n",
       "  </div>\n"
      ],
      "text/plain": [
       "   Pregnancies  Glucose  BloodPressure  SkinThickness  Insulin   BMI  \\\n",
       "0            6      148             72             35        0  33.6   \n",
       "1            1       85             66             29        0  26.6   \n",
       "2            8      183             64              0        0  23.3   \n",
       "3            1       89             66             23       94  28.1   \n",
       "4            0      137             40             35      168  43.1   \n",
       "\n",
       "   DiabetesPedigreeFunction  Age  Outcome  \n",
       "0                     0.627   50        1  \n",
       "1                     0.351   31        0  \n",
       "2                     0.672   32        1  \n",
       "3                     0.167   21        0  \n",
       "4                     2.288   33        1  "
      ]
     },
     "execution_count": 25,
     "metadata": {},
     "output_type": "execute_result"
    }
   ],
   "source": [
    "# Check the shape of the DataFrame\n",
    "print(df.shape)\n",
    "\n",
    "# Define your variables\n",
    "y_var = \"Outcome\"\n",
    "X_vars = [col for col in df.columns if col != y_var]\n",
    "\n",
    "# Display the first few rows\n",
    "df.head()"
   ]
  },
  {
   "cell_type": "markdown",
   "id": "e9789fca-0ae0-4c1f-b032-f94fccfcd7d7",
   "metadata": {
    "id": "e9789fca-0ae0-4c1f-b032-f94fccfcd7d7"
   },
   "source": [
    "### Data Type and Visualization\n",
    "* Understanding your data is a critical step in any data science workflow. In this part, we analyze the data types and visualize the diabetes dataset to understand its structure and relationships between variables.\n",
    "  * Data Types Check: Checking data types helps ensure all features are in the correct format.\n",
    "  * Visualizing Distributions: Understanding the distribution of the target variable is essential for choosing the right model and evaluation metric.\n",
    "  * Pair Plot: A pair plot shows relationships between features and the target, allowing for a quick visual understanding of potential correlations."
   ]
  },
  {
   "cell_type": "code",
   "execution_count": null,
   "id": "a449804c-dcc0-469c-b3c8-8c84b493dd41",
   "metadata": {
    "id": "a449804c-dcc0-469c-b3c8-8c84b493dd41"
   },
   "outputs": [],
   "source": [
    "# Check the data types of the features\n",
    "# Hint: a pandas DataFrame has an attribute \"dtype\"\n",
    "print() # YOUR CODE HERE\n",
    "\n",
    "# Visualizing the distribution of features to find target and independency features\n",
    "# Hint: Consider using the seaborn package\n",
    "# YOUR CODE HERE\n"
   ]
  },
  {
   "cell_type": "markdown",
   "id": "4f68bcc6-2108-4e65-9967-29356f592360",
   "metadata": {
    "id": "4f68bcc6-2108-4e65-9967-29356f592360"
   },
   "source": [
    "* Independent Variables: Usually numeric or categorical variables that represent different attributes or features.\n",
    "* Target Variable: Often numeric (for regression problems) or categorical (for classification problems). It is the variable that the model is trying to predict."
   ]
  },
  {
   "cell_type": "code",
   "execution_count": null,
   "id": "bb8c2089-9338-4faf-8ef2-ce1f6c85b791",
   "metadata": {
    "id": "bb8c2089-9338-4faf-8ef2-ce1f6c85b791"
   },
   "outputs": [],
   "source": [
    "target_variable = 'Outcome'\n",
    "independent_variables = df.columns[df.columns != target_variable]"
   ]
  },
  {
   "cell_type": "markdown",
   "id": "2f768b92-d3c5-4ec4-a52e-2f2cdde38f28",
   "metadata": {
    "id": "2f768b92-d3c5-4ec4-a52e-2f2cdde38f28"
   },
   "source": [
    "### Train/Test Splits with Scikit-Learn\n",
    "* To build a reliable machine learning model, it is crucial to assess its performance on unseen data. To achieve this, we split the dataset into a training set, which is used to train the model, and a testing set, which is used to evaluate its performance. This helps in understanding the model's generalization ability.\n",
    "  * Utilize train_test_split from Scikit-Learn to split the data.\n",
    "  * Create training and testing datasets.\n",
    "  * Ensure that the test size is 20% (optional) of the original dataset."
   ]
  },
  {
   "cell_type": "code",
   "execution_count": null,
   "id": "6181d0f3-b82b-4c11-9984-55add2a93f29",
   "metadata": {
    "id": "6181d0f3-b82b-4c11-9984-55add2a93f29",
    "scrolled": true
   },
   "outputs": [],
   "source": [
    "# Split the dataset into training and testing sets\n",
    "# YOUR CODE HERE\n",
    "\n",
    "print(f'Training data shape: {X_train.shape}, Testing data shape: {X_test.shape}')"
   ]
  },
  {
   "cell_type": "markdown",
   "id": "c5a179d5-4a87-4d82-8a77-3322436b16ab",
   "metadata": {
    "id": "c5a179d5-4a87-4d82-8a77-3322436b16ab"
   },
   "source": [
    "### Linear Regression with Scikit-Learn\n",
    "* Scikit-Learn LinearRegression provides a class to train a model to predict the target variable from the independent variables. The model will then be evaluated using the Mean Squared Error (MSE) metric.\n",
    "  * Linear Regression assumes that the relationship is linear, and it finds the line of best fit by minimizing the sum of squared differences between the observed and predicted values\n",
    "  * MSE is the average of the squared differences between the predicted and actual values. A lower MSE indicates a better fit"
   ]
  },
  {
   "cell_type": "code",
   "execution_count": null,
   "id": "96d10df2-d24d-4af9-912c-454d36c9a85d",
   "metadata": {
    "id": "96d10df2-d24d-4af9-912c-454d36c9a85d"
   },
   "outputs": [],
   "source": [
    "from sklearn.linear_model import LinearRegression\n",
    "from sklearn.metrics import mean_squared_error\n",
    "\n",
    "# Initialize the linear regression model\n",
    "# YOUR CODE HERE\n",
    "\n",
    "# Train the model\n",
    "# YOUR CODE HERE\n",
    "\n",
    "# Predict on the test set\n",
    "# YOUR CODE HERE\n",
    "\n",
    "# Evaluate the model\n",
    "# YOUR CODE HERE\n",
    "print(f'Mean Squared Error on Test Set: {mse:.2f}')"
   ]
  },
  {
   "cell_type": "markdown",
   "id": "8cb5a7f0-1699-4e72-92c1-82796a83cad6",
   "metadata": {
    "id": "8cb5a7f0-1699-4e72-92c1-82796a83cad6"
   },
   "source": [
    "### Pytorch Basic\n",
    "#### Tensor\n",
    "* Pytorch provides 'tensors' as the fundamental data structure which enable efficient linear algebra functionality, auto differentiation and integration with CUDA\n",
    "    * tens.T performs the transpose of the matrix\n",
    "    * Try pushing the tens to the GPU with tens.cuda()\n",
    "    * A torch.Tensor is a multi-dimensional matrix containing elements of a single data type.\n",
    "\n",
    "##### What's special about torch tensors?\n",
    "1. Torch tensors can be used on GPUs which are much faster than CPUs at large parallel computations\n",
    "2. Torch automatically keeps track of the gradient information"
   ]
  },
  {
   "cell_type": "code",
   "execution_count": null,
   "id": "f4450fc7-3545-46fa-87c2-2ac236a01121",
   "metadata": {
    "id": "f4450fc7-3545-46fa-87c2-2ac236a01121"
   },
   "outputs": [],
   "source": [
    "# Create multi-dimension tensor (4-dims)\n",
    "rands = torch.rand(1,2,3,4)\n",
    "print(rands)\n",
    "# torch.reshape returns a tensor with the same data and number of elements as input, but with the specified shape.\n",
    "print(rands.shape)\n",
    "\n",
    "# 1*2*3*4 = 1*(2*3)*4\n",
    "rands_reshape = rands.reshape(1, 6, 4)\n",
    "print(rands_reshape.shape)\n",
    "\n",
    "# A single dimension may be -1, in which case it’s inferred from the remaining dimensions and the number of elements in input.\n",
    "rands_reshape = rands.reshape(1, -1)\n",
    "print(rands_reshape.shape)"
   ]
  },
  {
   "cell_type": "code",
   "execution_count": null,
   "id": "f2f74dd2-0cc6-4401-b2eb-e8453e2e81a9",
   "metadata": {
    "id": "f2f74dd2-0cc6-4401-b2eb-e8453e2e81a9"
   },
   "outputs": [],
   "source": [
    "# Change our dataset to tensor\n",
    "tens = torch.tensor(df.values)\n",
    "print(tens)\n",
    "print(tens.shape)"
   ]
  },
  {
   "cell_type": "code",
   "execution_count": null,
   "id": "9cc351a7-2dd4-4d85-8096-8c002f5ae63f",
   "metadata": {
    "id": "9cc351a7-2dd4-4d85-8096-8c002f5ae63f"
   },
   "outputs": [],
   "source": [
    "# CPU vs GPU\n",
    "# Use GPU if available\n",
    "import time\n",
    "device = \"cuda\" if torch.cuda.is_available() else \"cpu\"\n",
    "dim=6000\n",
    "\n",
    "x=torch.randn(dim,dim)\n",
    "y=torch.randn(dim,dim)\n",
    "start_time = time.time()\n",
    "z=torch.matmul(x,y)\n",
    "elapsed_time = time.time() - start_time\n",
    "print('CPU_time = ', elapsed_time)\n",
    "\n",
    "\n",
    "x=torch.randn(dim,dim,device=device)\n",
    "y=torch.randn(dim,dim,device=device)\n",
    "start_time = time.time()\n",
    "z=torch.matmul(x,y)\n",
    "elapsed_time = time.time() - start_time\n",
    "print('GPU_time = ',elapsed_time)"
   ]
  },
  {
   "cell_type": "code",
   "execution_count": null,
   "id": "679c0eaa-5215-4996-88cf-bc6cd656f40c",
   "metadata": {
    "id": "679c0eaa-5215-4996-88cf-bc6cd656f40c"
   },
   "outputs": [],
   "source": [
    "# Torch tensors automatically keep track of the gradient information\n",
    "a=torch.rand(64, requires_grad=True)\n",
    "\n",
    "b=4*a\n",
    "c=6*a\n",
    "\n",
    "out=(b+c).sum()\n",
    "out.backward()\n",
    "print(a.grad)\n",
    "\n",
    "# detach() can exclude some operations from gradient calculation, saving memory and computation\n",
    "a = a.detach()\n",
    "print(a.grad)"
   ]
  },
  {
   "cell_type": "markdown",
   "id": "049227ac-a9fe-479c-9cf8-f070182aa762",
   "metadata": {
    "id": "049227ac-a9fe-479c-9cf8-f070182aa762"
   },
   "source": [
    "#### Pytorch Dataset and Dataloader\n",
    "Pytorch Datasets and Dataloaders provide a useful API for loading batches of data for deep learning models\n",
    "\n",
    "* Dataset\n",
    "  * The 'Dataset' represents the entire training/validation/test data. The \\_\\_len\\_\\_ and \\_\\_getitem\\_\\_ dunder methods are required for the Dataset class as they:\n",
    "    * Define the number of data observations e.g., a single row in a dataset, a single image and;\n",
    "    * Allow a single data observation to be retrieved\n",
    "    * The Dataset class simplifies managing large and non-standard datasets as e.g., not all of the data needs to be loaded into RAM at onces etc\n",
    "* DataLoader\n",
    "  * The 'Dataloader' handles how a given dataset should be batched. If the output of a dataset.\\_\\_getitem\\_\\_ call is a tensor then the base dataloader class can be used however, if non-standard types are being used i.e. dictionaries then defining custom batching is useful\n",
    "\n",
    "The diabetes dataset used in this tutorial is small and tabular therefore we'll use the standard dataloader and define a custom dataset to handle input data which:\n",
    "* Is a pandas dataframe;\n",
    "* Has a 1-dimensional dependant variable which does not require processing\n",
    "* Has an n-dimensional feature space which requires min-max scaling"
   ]
  },
  {
   "cell_type": "code",
   "execution_count": null,
   "id": "baae5037-1200-46f9-ae61-8a3d8c137636",
   "metadata": {
    "id": "baae5037-1200-46f9-ae61-8a3d8c137636"
   },
   "outputs": [],
   "source": [
    "class PandasDataset(Dataset):\n",
    "    def __init__(self, X:pd.DataFrame, y:pd.Series)->None:\n",
    "        # Your code here\n",
    "        self._X = torch.from_numpy(X.values).float()\n",
    "        self._X = self.__min_max_norm(self._X)\n",
    "        self.feature_dim = X.shape[1]\n",
    "        self._len = X.shape[0]\n",
    "        self._y = torch.from_numpy(y.values)[:,None].float()\n",
    "\n",
    "    def __len__(self)->int:\n",
    "        # Your code here\n",
    "\n",
    "\n",
    "    def __getitem__(self, idx:int) -> Tuple[torch.Tensor, torch.Tensor]:\n",
    "        # Your code here\n",
    "\n",
    "\n",
    "    def __min_max_norm(self, in_tens:torch.Tensor) -> torch.Tensor:\n",
    "        # Your code here\n",
    "        # Perform min-max normalization on the input tensor\n",
    "\n",
    "        # Calculate normalized tensor: (X - X.min(axis=0)) / (X.max(axis=0) - X.min(axis=0))\n",
    "        # Note: Add a small epsilon to avoid division by zero\n",
    "        return norm_tens"
   ]
  },
  {
   "cell_type": "code",
   "execution_count": null,
   "id": "6e00c880-1484-4588-b439-af759fa205f6",
   "metadata": {
    "id": "6e00c880-1484-4588-b439-af759fa205f6"
   },
   "outputs": [],
   "source": [
    "# Split train_data to training and validation dataset\n",
    "# YOUR CODE HERE\n",
    "# Create datasets\n",
    "train_data = PandasDataset(X=X_train, y=y_train)\n",
    "val_data = PandasDataset(X=X_val, y=y_val)\n",
    "test_data = PandasDataset(X=X_test, y=y_test)\n",
    "# Get length of training, validation and test dataset\n",
    "print(f\"The training data has: {len(train_data)} samples\")\n",
    "print(f\"The validation data has: {len(val_data)} samples\")\n",
    "print(f\"The test data has: {len(test_data)} samples\")"
   ]
  },
  {
   "cell_type": "code",
   "execution_count": null,
   "id": "2fa549b4-90e9-45c6-b02e-10e28c747937",
   "metadata": {
    "id": "2fa549b4-90e9-45c6-b02e-10e28c747937"
   },
   "outputs": [],
   "source": [
    "# Let's load the dataset into PyTorch dataloaders, given the dataset is only small, a large batch size is not required.\n",
    "batch_size = 32\n",
    "shuffle = True\n",
    "train_dataloader = DataLoader(train_data, batch_size=batch_size, shuffle=shuffle)\n",
    "val_dataloader = DataLoader(val_data, batch_size=batch_size, shuffle=shuffle)\n",
    "print(f\"First train example: {train_data[0]} \\n with shape {(train_data[0][0].shape, train_data[0][1].shape)}\")\n",
    "print(\"\\n\")\n",
    "print(f\"Second train example: {train_data[1]} \\n with shape {(train_data[1][0].shape, train_data[1][1].shape)}\")\n",
    "print(\"\\n\")"
   ]
  },
  {
   "cell_type": "code",
   "execution_count": null,
   "id": "f5d4ea2c-f128-46a4-9fb1-37d79e2d6cee",
   "metadata": {
    "id": "f5d4ea2c-f128-46a4-9fb1-37d79e2d6cee"
   },
   "outputs": [],
   "source": [
    "# Notice how the dataloader concatenates the observations by adding a new first dimension\n",
    "first_batch = train_dataloader.__iter__()._next_data()\n",
    "print(f\"First train example: {first_batch} \\n with shape {(first_batch[0].shape, first_batch[1].shape)}\")\n",
    "print(\"\\n\")"
   ]
  },
  {
   "cell_type": "markdown",
   "id": "f5e9ccaa-1309-4523-9f31-6391d40d06a4",
   "metadata": {
    "id": "f5e9ccaa-1309-4523-9f31-6391d40d06a4"
   },
   "source": [
    "#### Pytorch Model\n",
    "* Pytorch models are developed by subclassing the nn.Module. The core requirement for a Pytorch model is defining the forward method which defines the model's forward pass. The new subclass will most likely make us of other nn.Module subclasses, some of which are:\n",
    "* nn.Linear(in_features, out_features) - this defines a single fully connected layer with a given number of input and output features\n",
    "    "
   ]
  },
  {
   "cell_type": "markdown",
   "id": "f0cb45ec",
   "metadata": {
    "id": "f0cb45ec"
   },
   "source": [
    "#### Linear Regression in PyTorch\n",
    "Unlike Scikit-Learn, PyTorch provides more flexibility for customizing the model architecture and training process. We define a simple linear model using nn.Module, specify the loss function, and use an optimizer to minimize the loss during training."
   ]
  },
  {
   "cell_type": "code",
   "execution_count": null,
   "id": "b3d99b12-c587-4f71-a702-f9d79efc4943",
   "metadata": {
    "id": "b3d99b12-c587-4f71-a702-f9d79efc4943"
   },
   "outputs": [],
   "source": [
    "# Define the linear regression model\n",
    "device = torch.device('cuda' if torch.cuda.is_available() else 'cpu') # cuda is a type of gpu\n",
    "device = 'cpu'\n",
    "class LinearRegressionModel(nn.Module):\n",
    "    def __init__(self, input_dim):\n",
    "        # YOUR CODE HERE\n",
    "\n",
    "    def forward(self, x):\n",
    "        # YOUR CODE HERE"
   ]
  },
  {
   "cell_type": "markdown",
   "id": "6343319e-4613-42d4-ba26-6cc5d82c2488",
   "metadata": {
    "id": "6343319e-4613-42d4-ba26-6cc5d82c2488"
   },
   "source": [
    "#### Training pipeline\n",
    "The train_single_epoch function provides an examplar function that trains an initialised model for a single epoch and returns the batch losses and predictions. Of note:\n",
    "* model.train(): certain nn.Module functionality such as dropout behaves differently during training and eval so we must tell the model that it is being trained\n",
    "* optimizer.zero_grad(), train_loss.backward() and optimizer.step(): for every minibatch, gradients are 'accumulated', based on this accumulation, the optimiser takes a 'step'. At the start of a gradient step the previous gradients are set to 0 to reaccumulate - _gradient calculations will be covered later in the course!"
   ]
  },
  {
   "cell_type": "code",
   "execution_count": null,
   "id": "6972e365-0d23-4ee1-9f2f-953ff8db39fb",
   "metadata": {
    "id": "6972e365-0d23-4ee1-9f2f-953ff8db39fb"
   },
   "outputs": [],
   "source": [
    "def train_single_epoch(model, data_loader, criterion, optimizer):\n",
    "    model.to(device)\n",
    "    model.train()\n",
    "    epoch_loss = 0\n",
    "    for X_batch, y_batch in data_loader:\n",
    "        X_batch = X_batch.to(device)\n",
    "        y_batch = y_batch.to(device)\n",
    "        optimizer.zero_grad()\n",
    "        y_pred = model(X_batch)\n",
    "        loss = criterion(y_pred, y_batch)\n",
    "        loss.backward()\n",
    "        optimizer.step()\n",
    "        epoch_loss += loss.item()\n",
    "    return epoch_loss / len(data_loader)"
   ]
  },
  {
   "cell_type": "markdown",
   "id": "1d12c881-4274-4d0b-a499-20ff0715421d",
   "metadata": {
    "id": "1d12c881-4274-4d0b-a499-20ff0715421d"
   },
   "source": [
    "After each epoch, we would like to evaluate the model. Notice:\n",
    "* model.eval() now tells the model we are evaluating and ensures functionality such as dropout behave appropriately\n",
    "* torch.no_grad() tells the model not to calculate gradients since, in evaluation, we do not update the parameters!\n",
    "\n",
    "Complete the function to calculate the epoch lossses and predictions, take inspiraton from the training function above"
   ]
  },
  {
   "cell_type": "code",
   "execution_count": null,
   "id": "bd7b7535-f399-4dd4-aca9-b5ad37a6ad7c",
   "metadata": {
    "id": "bd7b7535-f399-4dd4-aca9-b5ad37a6ad7c"
   },
   "outputs": [],
   "source": [
    "def validate(model, data_loader, criterion):\n",
    "    model.to(device)\n",
    "    model.eval()\n",
    "    val_loss = 0\n",
    "    with torch.no_grad():\n",
    "        for X_batch, y_batch in data_loader:\n",
    "            X_batch = X_batch.to(device)\n",
    "            y_batch = y_batch.to(device)\n",
    "            y_pred = model(X_batch)\n",
    "            loss = criterion(y_pred, y_batch)\n",
    "            val_loss += loss.item()\n",
    "    return val_loss / len(data_loader)\n",
    "\n",
    "def test(model, data_loader, criterion):\n",
    "    model.to(device)\n",
    "    model.eval()\n",
    "    test_loss = 0\n",
    "    with torch.no_grad():\n",
    "        for X_batch, y_batch in data_loader:\n",
    "            X_batch = X_batch.to(device)\n",
    "            y_batch = y_batch.to(device)\n",
    "            y_pred = model(X_batch)\n",
    "            loss = criterion(y_pred, y_batch)\n",
    "            test_loss += loss.item()\n",
    "    return test_loss / len(data_loader)"
   ]
  },
  {
   "cell_type": "markdown",
   "id": "0e18b98b-7c6d-4a9b-9f5a-72375ba0b431",
   "metadata": {
    "id": "0e18b98b-7c6d-4a9b-9f5a-72375ba0b431"
   },
   "source": [
    "* We can now use the above functions to run a single epoch worth of training and validation.\n",
    "* nn.MSELoss() is used since we are performing a linear regrassion task. This is not the only training metric which we can use again, experiment with others if you wish!"
   ]
  },
  {
   "cell_type": "code",
   "execution_count": null,
   "id": "95c79be6-1f50-4332-a18e-382112deb26f",
   "metadata": {
    "id": "95c79be6-1f50-4332-a18e-382112deb26f"
   },
   "outputs": [],
   "source": [
    "# Initialize the model, loss function, and optimizer\n",
    "input_dim = X_train.shape[1]\n",
    "model = LinearRegressionModel(input_dim)\n",
    "criterion = nn.MSELoss()\n",
    "optimizer = torch.optim.SGD(model.parameters(), lr=0.001)\n",
    "\n",
    "# Train for one epoch and display the result\n",
    "train_loss_one_epoch = train_single_epoch(model, train_dataloader, criterion, optimizer)\n",
    "print(f'Training Loss after one epoch: {train_loss_one_epoch:.4f}')\n",
    "\n",
    "# Validate the model after one epoch\n",
    "val_loss_one_epoch = validate(model, val_dataloader, criterion)\n",
    "print(f'Validation Loss after one epoch: {val_loss_one_epoch:.4f}')"
   ]
  },
  {
   "cell_type": "markdown",
   "id": "78f9025b-37bc-4ccb-b90c-093280d2a2d4",
   "metadata": {
    "id": "78f9025b-37bc-4ccb-b90c-093280d2a2d4"
   },
   "source": [
    "#### Monitoring\n",
    "* A significant part of developing machine learning models involves experimentation. Tracking and managing these experiments can become challenging as the number of experiments grows. To address this, we use tools like Weights and Biases (wandb), which help in logging and visualizing metrics, saving model checkpoints, and comparing different runs effectively.\n",
    "* The training loop has been updated to log both training and validation metrics (such as loss) to wandb. This allows you to monitor the model's performance in real-time and keep track of the training process. Additionally, the model's parameters are saved at each epoch, but only the best-performing model (based on validation loss) is preserved. This ensures that you can always retrieve the best model from your experiments."
   ]
  },
  {
   "cell_type": "code",
   "execution_count": null,
   "id": "d35a9330-999e-4025-9bc7-d2c75a6de5b3",
   "metadata": {
    "id": "d35a9330-999e-4025-9bc7-d2c75a6de5b3"
   },
   "outputs": [],
   "source": [
    "wandb.login()\n",
    "epochs = 50\n",
    "lr=0.001\n",
    "weight_decay=0.0\n",
    "\n",
    "config={\n",
    "    \"learning_rate\": lr,\n",
    "    \"architecture\": \"LinearRegressionModel\",\n",
    "    \"epochs\": epochs,\n",
    "    \"weight_decay\": weight_decay,\n",
    "    \"batch_size\": batch_size,\n",
    "    \"shuffle\": shuffle,\n",
    "    \"loss\": criterion\n",
    "    }\n",
    "\n",
    "wandb.init(project='diabetes_prediction', config=config)\n",
    "\n",
    "\n",
    "def train_all_epochs(model, train_loader, val_loader, criterion, optimizer, epochs):\n",
    "    train_losses = []\n",
    "    val_losses = []\n",
    "    best_val_loss = float('inf')  # Initialize best validation loss to a very high value\n",
    "    model.to(device)\n",
    "\n",
    "    for epoch in range(epochs):\n",
    "        # Train for one epoch\n",
    "        model.train()  # Set model to training mode\n",
    "        train_loss = train_single_epoch(model, train_loader, criterion, optimizer)\n",
    "\n",
    "        # Validate the model after the epoch\n",
    "        model.eval()  # Set model to evaluation mode\n",
    "        with torch.no_grad():  # Disable gradient calculation for validation\n",
    "            val_loss = validate(model, val_loader, criterion)\n",
    "\n",
    "        # Log the training and validation loss to wandb\n",
    "        wandb.log({\"train_loss\": train_loss, \"val_loss\": val_loss})\n",
    "\n",
    "        # Save the best model checkpoint\n",
    "        if val_loss < best_val_loss:\n",
    "            best_val_loss = val_loss\n",
    "            chkp_pth = os.path.join(wandb.run.dir, f\"mdl_chkpnt_epoch_{epoch}.pt\")\n",
    "            torch.save(\n",
    "                {\n",
    "                    'epoch': epoch,\n",
    "                    'model_state_dict': model.state_dict(),\n",
    "                    'optimizer_state_dict': optimizer.state_dict(),\n",
    "                }, chkp_pth)\n",
    "            # Log the path of the best model checkpoint\n",
    "            wandb.log({\"best_model_path\": chkp_pth})  # Optionally log the path\n",
    "\n",
    "        train_losses.append(train_loss)\n",
    "        val_losses.append(val_loss)\n",
    "        print(f'Epoch {epoch+1}/{epochs}, Training Loss: {train_loss:.4f}, Validation Loss: {val_loss:.4f}')\n",
    "\n",
    "    return train_losses, val_losses"
   ]
  },
  {
   "cell_type": "code",
   "execution_count": null,
   "id": "ab5d2d3c-6494-4cbf-a647-0fd3e72f3198",
   "metadata": {
    "id": "ab5d2d3c-6494-4cbf-a647-0fd3e72f3198"
   },
   "outputs": [],
   "source": [
    "# Train the model\n",
    "train_losses, val_losses = train_all_epochs(model, train_dataloader, val_dataloader, criterion, optimizer, epochs)\n",
    "wandb.finish()"
   ]
  },
  {
   "cell_type": "code",
   "execution_count": null,
   "id": "a7f460e7-475e-4d70-82af-8ab2b5f50e33",
   "metadata": {
    "id": "a7f460e7-475e-4d70-82af-8ab2b5f50e33"
   },
   "outputs": [],
   "source": [
    "# Plot MSE loss over epochs\n",
    "# Hint: Use the matplotlib package and the plot object\n",
    "# Multiple lines can be placed on a single graph by calling plot multiple times before calling show\n",
    "# YOUR CODE HERE"
   ]
  },
  {
   "cell_type": "markdown",
   "id": "2b210aca-6488-4c0e-b94f-323a6f99446c",
   "metadata": {
    "id": "2b210aca-6488-4c0e-b94f-323a6f99446c"
   },
   "source": [
    "### Feature Selection\n",
    "Feature selection is a technique to improve model performance by focusing on the most relevant features. We hypothesize which features are most important and iteratively add features to our model to observe changes in performance. This can help in building more efficient models.\n",
    "* The f_regression method in the sklearn package helps evaluate the features' significance."
   ]
  },
  {
   "cell_type": "code",
   "execution_count": null,
   "id": "cb9c2227-07e5-4b00-b15f-2a092cb78184",
   "metadata": {
    "id": "cb9c2227-07e5-4b00-b15f-2a092cb78184"
   },
   "outputs": [],
   "source": [
    "from sklearn.feature_selection import f_regression\n",
    "\n",
    "# Start with the most important feature\n",
    "initial_feature = 'Glucose'  # Hypothetical important feature\n",
    "\n",
    "# Create a new dataset with only the selected features\n",
    "selected_features = [initial_feature]\n",
    "\n",
    "# Loop to add one feature at a time and check performance\n",
    "for feature in independent_variables:\n",
    "    if feature not in selected_features:\n",
    "        selected_features.append(feature)\n",
    "        X_train_subset = X_train[selected_features]\n",
    "        X_test_subset = X_test[selected_features]\n",
    "\n",
    "        # Train a new model with the selected features\n",
    "        model = LinearRegression()\n",
    "        model.fit(X_train_subset, y_train)\n",
    "        y_pred = model.predict(X_test_subset)\n",
    "        mse = mean_squared_error(y_test, y_pred)\n",
    "\n",
    "        print(f'Features: {selected_features}, MSE: {mse:.5f}')"
   ]
  },
  {
   "cell_type": "markdown",
   "id": "775ff520",
   "metadata": {
    "id": "775ff520"
   },
   "source": [
    "### Extended exercise 1\n",
    "* Update the Dataset class and train functions to make running the model on a GPU more efficient! _Hint: Front load the data being pushed!_\n",
    "* Compare differences in time consumption"
   ]
  },
  {
   "cell_type": "markdown",
   "id": "30d71cbf",
   "metadata": {
    "id": "30d71cbf"
   },
   "source": [
    "### Extended exercise 2\n",
    "* Using weights and biases to diagnose model performance, try and develop the best performing model\n",
    "* Don't evaluate the model on the test set until you are finished with experimentation"
   ]
  }
 ],
 "metadata": {
  "colab": {
   "provenance": []
  },
  "kernelspec": {
   "display_name": "Python 3 (ipykernel)",
   "language": "python",
   "name": "python3"
  },
  "language_info": {
   "codemirror_mode": {
    "name": "ipython",
    "version": 3
   },
   "file_extension": ".py",
   "mimetype": "text/x-python",
   "name": "python",
   "nbconvert_exporter": "python",
   "pygments_lexer": "ipython3",
   "version": "3.10.14"
  }
 },
 "nbformat": 4,
 "nbformat_minor": 5
}
